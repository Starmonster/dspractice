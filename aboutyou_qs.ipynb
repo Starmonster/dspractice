{
 "cells": [
  {
   "cell_type": "markdown",
   "metadata": {},
   "source": [
    "# About you q's. \n",
    "  ## It's important to stick a clear and consice formula when answering questions, especially about oneself. Here I have prepped some questions about myself and other questions that have come up in interviews. Please feel free to clone this repo and replace these answers with your own"
   ]
  },
  {
   "cell_type": "markdown",
   "metadata": {},
   "source": [
    "I use the STAR framework to answer questions. \n",
    "Situation <br>\n",
    "Task <br>\n",
    "Action <br>\n",
    "Result"
   ]
  },
  {
   "cell_type": "markdown",
   "metadata": {},
   "source": [
    "### Why do you want to be a data scientist? (tie this into a big picture, be specific with your reasons, don't be generic)"
   ]
  },
  {
   "cell_type": "markdown",
   "metadata": {},
   "source": [
    "**Situation**: In my last year of university, the Syrian war was probably the most covered news topic on media. I founded a startup that gives free smartphones with preloaded applications to the disadvantaged. What does this mean? I wanted to give refugees free phones that helped bridge the gap between solutions and delivery. There have been soo many new and cool solutions to help aid people in need but the biggest problems we see are that they fail to reach its intended audience. I wanted to fix this. I wanted to give people the chance to survive and thrive in crisis. There have been countless discussions on \"Do you actually know what it is that they would need or want on a handheld device?\" As simple as this question is, there has been a huge gap in obtaining data for everyone who falls into difficulties, especially refugees and people who fall below the poverty line. My phones would also help to collect data in an ethical way. <br>\n",
    "<br>\n",
    "**Task** This was no easy task. I created Symmitree in 2017 and went straight into building a team and partnerships without any funding. We built an MVP and secured funding shortly after. As a founder I needed to think about my next steps for my target market. When I started thinking about the next set of needs and what my target market would want I realised that I had no idea about data science, how it worked and what it could do. <br>\n",
    "<br>\n",
    "**Action** : I had heard of the Cambrdige Analytica scandal, but not much else. I stepped back from Symmitree last May and decided to take an immersive bootcamp course at Flatiron School. I wanted to be able to understand how to best help people and understand the needs of consumers. <br>\n",
    "<br>\n",
    "**Result** I now want to build a career in data science. I feel that data science is important with helping to transition society into something that is more people focused. Which can all be uncovered through studying and testing out patterns and correlations. "
   ]
  },
  {
   "cell_type": "markdown",
   "metadata": {},
   "source": [
    "### What intrigues you about X (company)?"
   ]
  },
  {
   "cell_type": "markdown",
   "metadata": {},
   "source": [
    "Think of something that is personal and not generic. "
   ]
  },
  {
   "cell_type": "markdown",
   "metadata": {},
   "source": [
    "### How is your previous background good for X? (talk about your business experience, how you can contribute, align your contributions and experience with the company's unique goals)"
   ]
  },
  {
   "cell_type": "markdown",
   "metadata": {},
   "source": [
    "**Situation** After creating my own startup I learned a lot. I have learned that I can do a lot of things on my own, but things are always better on a team of people. Everyone has their own strengths and weaknesses. I have also learned how to build partnerships, do project management and conduct cross-functional collaboration.  <br> \n",
    "<br>\n",
    "**Task** I feel that my ability to learn and move quickly is a valuable skill. Much like \"X\"  <br> \n",
    "<br>\n",
    "**Action** <br>\n",
    "<br>\n",
    "**Result** <br> "
   ]
  },
  {
   "cell_type": "markdown",
   "metadata": {},
   "source": [
    "### What did you learn at Flatiron School? (go deep, educate the person about the bootcamp, talk about the general ethos of Flatiron)"
   ]
  },
  {
   "cell_type": "code",
   "execution_count": null,
   "metadata": {},
   "outputs": [],
   "source": []
  },
  {
   "cell_type": "markdown",
   "metadata": {},
   "source": [
    "### Tell me about a project (state reasons for doing the project, state reason for specific models used, identify what was learned, speak about future actions for this project) "
   ]
  },
  {
   "cell_type": "code",
   "execution_count": null,
   "metadata": {},
   "outputs": [],
   "source": []
  },
  {
   "cell_type": "markdown",
   "metadata": {},
   "source": [
    "### Talk about a challenge you have overcome (Things I encountered, what I could do better, suggestions for myself, what I can avoid next time)"
   ]
  },
  {
   "cell_type": "code",
   "execution_count": null,
   "metadata": {},
   "outputs": [],
   "source": []
  },
  {
   "cell_type": "markdown",
   "metadata": {},
   "source": [
    "### When have you solved a problem?"
   ]
  },
  {
   "cell_type": "code",
   "execution_count": null,
   "metadata": {},
   "outputs": [],
   "source": []
  },
  {
   "cell_type": "markdown",
   "metadata": {},
   "source": [
    "### What are your strengths and weaknesses?"
   ]
  },
  {
   "cell_type": "code",
   "execution_count": null,
   "metadata": {},
   "outputs": [],
   "source": []
  },
  {
   "cell_type": "markdown",
   "metadata": {},
   "source": [
    "### What are some questions you have for me?"
   ]
  },
  {
   "cell_type": "code",
   "execution_count": null,
   "metadata": {},
   "outputs": [],
   "source": []
  },
  {
   "cell_type": "markdown",
   "metadata": {},
   "source": [
    "### Why did you start Symmitree? "
   ]
  },
  {
   "cell_type": "markdown",
   "metadata": {},
   "source": [
    "talk about: <br>\n",
    "**Situation**: STORY BEHIND IT, parents have always helped refugees, resettlement reintegration, helping with free healthcare. Have seen first hand what its like to have to flee due to your very indentity. My father was a refugee who was later adopted and moved to America.I grew up helping with resettlement and reintegration. I loved helping. Seeing my father give back meant a lot. It's something that I too have started to do on my own.  <br> \n",
    "<br> \n",
    "**Task** In 2016, the Syrian war was all over the media. At this time I was already in my last year of university and as a final year project was tasked with creating a business idea. <br>\n",
    "<br>\n",
    "**Action** I looked for all of the things necessary for someone to survive in the West. Healthcare, Education, Banking, Mental health. As soon as I realised what people use on a daily basis. I started partnerships with companies that created these apps. Name top 3. <br>\n",
    "<br>**Result** RightMesh, Sovrin, and the Vatican "
   ]
  },
  {
   "cell_type": "markdown",
   "metadata": {},
   "source": [
    "I know what its like to build a startup, raise money, find co-founders. I have been able to build partnerships, strategise and do business planning. My co-founder and I had a business model put in place to make money for Symmitree. <br>\n",
    "<br>\n",
    "Symmitree is currently still pre-revenue. I feel like  a part of the reason it did not make money, is because we had disagreements with deployment. Upon gaining funding, one of our investors asked to work full time on the project. I was not too keen on this, but finally gave in. <br>\n",
    "<br>\n",
    "He came on as a Head of Operations but immediately wanted to become the CEO. He also did not want to deploy an MVP. The MVP was not 'perfect'.But One of my biggest modos is 'don't worry about making something fancy, just make sure to solve the problem at hand and then get the data to iterate'. As soon as our investor came on as a full time employee the startup's progress became slower. <br>\n",
    "<br>\n",
    "I left my startup and immediately knew I wanted to learn more about data science. I enrolled in Flatiron School and finished my course the last week of May. "
   ]
  },
  {
   "cell_type": "markdown",
   "metadata": {},
   "source": [
    "### Why?"
   ]
  },
  {
   "cell_type": "markdown",
   "metadata": {},
   "source": [
    "Why?I have witnessed one of the largest human displacements on earth. It is the largest refugee crisis the world has seen in a long time. \n",
    "I would market this by creating a Software as a service. The phone would be free, but we could sell this to business, by giving them the data they are looking for.  "
   ]
  },
  {
   "cell_type": "markdown",
   "metadata": {},
   "source": [
    "I have studied business models, when you achieve product market fit, you have to make sure it solves the problem. Its not just the product fit that works, its got to be the right time, with the right business model and the right produce and price. <br>\n",
    "<br> \n",
    "\n",
    "\n"
   ]
  },
  {
   "cell_type": "markdown",
   "metadata": {},
   "source": [
    "## Enterprise Software v SaaS\n",
    "\n",
    "When selecting new association management software, you will often have to choose between “enterprise” software and software-as-a-service (SAAS). In the traditional definition, enterprise software is software your organization buys and installs on your organization’s servers. By contrast, SaaS software is software that you “rent” and is hosted “in the cloud” and accessed via the internet. In addition and significantly, SaaS offerings tend to be multi-tenant, meaning that multiple organizations are actually working in the same database.\n",
    "\n",
    "**SO WHAT ARE THE SIGNIFICANT DIFFERENCES BETWEEN THESE TWO TYPES OF SOFTWARE? HERE ARE FOUR DISTINGUISHING FACTORS** : <br> \n",
    "**Customizability**  – One of the primary advantages of traditional enterprise software is the ability to customize the software. Because you own the software, you can customize the software as needed to address your needs. With SaaS software, customization is typically limited to whatever tools the SaaS provider offers (e.g., creating new fields, creating new entities, or nothing at all). Because a SaaS offering is typically in a multi-tenant environment  pure customization is simply not possible (since customizing would, by definition, change the database being used by other organizations). Advantage: Enterprise <br> \n",
    "<br> \n",
    "**Querying and Reporting** – Because SaaS offerings are multi-tenant, creating queries and reports presents a challenge. Queries and reports typically scan the entire database for data, which means in a multi-tenant environment, queries and reports can create a lot of processing overhead. This will affect other organizations sharing the database, and thus SaaS offerings tend to limit the kind of querying and reporting available to the user. By contrast, in an enterprise setting, querying and reporting can be done with third-party tools via ODBC, or the data sets can be pulled and reformatted in a data warehouse. Advantage: Enterprise <br> \n",
    "<br> \n",
    "**Functionality** – This is somewhat related to issue #1 above. Because of limited customizability, a SaaS system may not be able to perform all of the functionality your organization requires. In theory, at least, an enterprise system can be customized to address all of your functional needs. Advantage: Enterprise <br>\n",
    "<br>\n",
    "**Price/Cash Flow** – Enterprise pricing tends to follow this model: software licensing, software maintenance, and customization/services. SaaS pricing tends to follow this model: monthly fee and services. Because you are purchasing software at the enterprise level (rather than renting, as in the SaaS model), your initial costs will be much, much higher, sometimes by a factor of 100 or more. The result is that initial costs for SaaS software will be significantly lower than enterprise software. Over time (typically 5 to 7 years) the total cost of ownership for SaaS and enterprise software will converge. But for SaaS offerings, that cost is spread over 7 years, rather than being frontloaded into the first year. Advantage: SaaS [Effective Database management](https://effectivedatabase.com/the-difference-between-enterprise-software-and-software-as-a-service/#:~:text=The%20Difference%20Between%20Enterprise%20Software%20and%20Software%2Das%2Da%2DService,-When%20selecting%20new&text=In%20the%20traditional%20definition%2C%20enterprise,and%20accessed%20via%20the%20internet.)"
   ]
  },
  {
   "cell_type": "markdown",
   "metadata": {},
   "source": [
    "**AND WHAT ABOUT IMPLEMENTATION? AGAIN, THERE ARE SOME SIGNIFICANT DIFFERENCES BETWEEN SAAS AND ENTERPRISE OFFERINGS**: <br>\n",
    "<br>\n",
    "**Data conversion** SaaS implementations tend to be simpler and thus the data conversion process is usually more condensed. That is, the standard process for SaaS data conversion is to convert the data once and to convert only baseline information (e.g., contact info, membership info). More detailed data imports can be done but are typically outside the norm. With enterprise-level implementations, there may be two or more iterations of data conversion, and they may contain very broad sets of data (e.g., financial data, event attendance history, product purchase history, etc.). <br> \n",
    "<br>\n",
    "**Testing** With an enterprise system there are typically many configurations and customizations set up and thus testing becomes extremely important, to ensure the system works as designed. With SaaS offerings, the processes tend to be baked in and thus testing is much less intensive. <br>\n",
    "<br>\n",
    "**Training** Enterprise systems tend to include several days of onsite training, while SaaS offerings tend to provide online/on-demand training. Onsite training tends to provide for more in-depth discussion of issues and may be more focused on organization-specific needs, while on-demand training is, by definition, much more generic, Of course, on-demand training is available whenever you need it.<br>\n"
   ]
  },
  {
   "cell_type": "markdown",
   "metadata": {},
   "source": [
    "## Symmitree's Commerciality\n"
   ]
  },
  {
   "cell_type": "markdown",
   "metadata": {},
   "source": [
    "It's commerciality was based on SaaS, but it currently has not made any revenue. I will touch on both parts of this. I'd first like to start with its business model. A lot of people felt that Symmitree is a charity, when it is in fact a for profit business. \n",
    "\n",
    "It's business model focuses on Software as a Service (Smartphone as well) and Back end as a Service (BaaS)\n",
    "\n",
    "**Mobile backend as a service (MBaaS)** , also known as \"backend as a service\",[1][2][3] is a model for providing web app and mobile app developers with a way to link their applications to backend cloud storage and APIs exposed by back end applications while also providing features such as user management, push notifications, and integration with social networking services.[4] These services are provided via the use of custom software development kits (SDKs) and application programming interfaces (APIs). BaaS is a relatively recent development in cloud computing,[5] with most BaaS startups dating from 2011 or later.[6][7][8] Although a fairly nascent industry, trends indicate that these services are gaining mainstream traction with enterprise consumers.[9] [BaaS](https://en.wikipedia.org/wiki/Mobile_backend_as_a_service)\n",
    "**BaaS is distinct from these other services in that it specifically addresses the cloud-computing needs of web and mobile app developers by providing a unified means of connecting their apps to cloud services.** \n",
    "\n",
    "Each BaaS provider offers a slightly different set of backend tools and resources.[10] Among the most common services provided are notification service, file storage and sharing, integration with social networks such as Facebook and Twitter, location services, database persistence and queries, messaging and chat functions, user management, running business logic, and usage analysis tools.[15][16]\n",
    "\n",
    "BaaS providers have a broad focus, providing SDKs and APIs that work for app development on multiple platforms, such as iOS, Android, Blackberry, Windows Phone, HTML5, and others.[16]\n",
    "\n",
    "**Business model** \n",
    "BaaS providers generate revenue from their services in various ways, often using a freemium model. Under this model, a client receives a certain number of free active users or API calls per month, and pays a fee for each user or call over this limit. Alternatively, clients can pay a set fee for a package which allows for a greater number of calls or active users per month.[11] There are also flat fee plans that make the pricing more predictable. Some of the providers offer the unlimited API calls inside their free plan offerings.[17] While BaaS is most commonly offered as a commercial service, open Source options are available.\n",
    "\n",
    "This meant that \n",
    "\n",
    "** Reason for choosing SaaS ** \n",
    "**Ease of installation/ease of upgrade** For a typical SaaS offering, the database software itself is installed and ready to run the instant you sign the contract. Obviously data conversion, setup, and training has to occur in order to use the software, but installation is a non-issue. Related to that, upgrades are pushed out automatically to all users, which means upgrades occur and with little fanfare and no effort on the part of the user organization. In addition, a SaaS offering requires no “maintenance” or tuning on the part of the client.**Super Quick** <br> \n",
    "<br>\n",
    "**The benefits don’t justify the costs** Even though enterprise software offers more functionality (speaking broadly) than SaaS offerings, for many organizations, these advantages are not significant enough to justify the higher initial expense and greater maintenance overhead required of an enterprise system.<br>\n",
    "<br>\n",
    "**Cash flow** For many organizations, the largest single purchase the organization will make is their data management system. For a smaller association (e.g., 15 staff), at the enterprise level this could mean a first year investment of over 150,000. For a SaaS with similar functionality, the first year investment might be closer to 30,000. From a cash flow perspective, that’s a huge difference. And if an organization that does not have significant reserves (or is uncomfortable tapping those reserves), a $150,000 investment may simply be untenable.   \n",
    "**Takes a lean approach for humanitarian aid organizations and NGOs in the sector**  \n",
    "\n",
    "\n"
   ]
  },
  {
   "cell_type": "markdown",
   "metadata": {},
   "source": [
    "## Ability: to make profits, interesting business models. \n",
    "\n",
    "It is all about perceived value and what that means for the customer. How much potential does it create for your customer, make sure its something they didn't have before. Bringing something that is more exponential to the table. \n",
    "\n",
    "Some of the my favorite business models to focus on fall within business enterprise models, licensing, enterprise software licensing. \n",
    "\n",
    "\"Firms across all industries are embracing internet-based digitization strategies to expand or improve their business. In many cases, though, internet-based businesses pursue customer growth ahead of profits. The path to profitability, which is a core element of a business model, should not be an afterthought. A well-designed business model balances the provision of value to customers with the capture of value by the provider. The elements of a business model and the dynamic capabilities that help design, implement, and refine a model for an organization and its business ecosystem are reviewed. The article then translates these concepts with respect to key organizational design decisions such as that of licensing versus practicing an innovation, insourcing versus outsourcing, and building a business ecosystem.\" [Business Enterprise Modeeling](https://jorgdesign.springeropen.com/articles/10.1186/s41469-017-0018-x) \n",
    "\n",
    "\"In standard formulations, such as Michael Porter’s “Five Forces” (Porter 1980), competition is determined primarily by the structure of input and end-user markets. Innovation is absent from the model, and structural change is rare. Today, incumbent firms struggle to gain durable advantage (D’Aveni et al. 2010). Disruptive innovation from start-ups and entry by firms from once-separate industries brings new competitive pressure that undermines existing business models.\" \n",
    "\n",
    "**Licensing Revenue Model**\n",
    "\n",
    "Licensing your content or product can be a great revenue generator for your business. This may be done either by charging the licensor for usage or for revenue generated. Charging for usage is the right approach if the licensor is in a line of business that is different from yours. Here, your licensor is essentially a consumer of your product and you may charge them either a fixed usage fee or one based on consumption. If your licensor is in the same line of business as you (Getty Images, for example), then charging them a percentage of the revenue is ideal. This way, the licensee makes money each time their content is sold by a third party licensor.\n",
    "\n",
    "Licensing is a lucrative business opportunity in a number of business segments – including software development and content creation. Identifying the right revenue model and picking the right target licensor will go a long way in establishing a successful business.\n",
    "\n"
   ]
  },
  {
   "cell_type": "markdown",
   "metadata": {},
   "source": [
    "## ANILA'S IDEAS ON MARKETS AND THE HISTORY OF INNOVATION: \n",
    "\n",
    "I listened to Matt Clifford's podcast. I find that innovation today is brought through digital and technical literacy. This is a big reason why I decided to go to Flatiron and pursue an in-depth course in Data Science and Machine Learning. \n",
    "\n",
    "Once you are able to serve the needs of a target market, you've got to move on to their wants. Customer retention is so important and data science is at the forefront of this. Data science seeps into every aspect of a business. I have learned to be able to study the ins and outs of product management, project management, implementation, financial forecasting using time series analysis, building neural nets and conducting statistical analysis, marketing you name it. \n",
    "\n",
    "Before I did the course I learned how to build a business and retain relationships. I have been able to market Symmitree and make it into some pretty big conferences. I was invited to speak at Blockstack Berlin that took place at Axica and spoke just before Edward Snowden. I was able to get a spot at Techfugee's Station F Pitch off 5 minutes before they started. People had weeks to prepare. I was the last person to go, I was able to capture the hearts of the audience and ended up getting a standing ovation. \n",
    "\n",
    "I've been able to raise money and sit across from world leaders and VCs and convince them about how Symmitree is the product of today and the future. Not just for refugees, but for anyone who falls on tough times. \n",
    "\n",
    "A lot of my expertise lies within the structures put in place for crisis mangement and the welfare that foreign countries place into the hands of big humanitarian conglomerates. \n",
    "\n",
    "It is my dream and goal to reduce the digital divide in this world. To create a means for everyone to have access to information and resources. This starts with being able to understand my customers and their needs to serve and target these markets. \n",
    "\n",
    "We can start to reduce the divide by providing companies that are able to reach these markets with the right tools to understand and implement real change for these individuals. \n",
    "\n",
    "\n",
    "\n"
   ]
  },
  {
   "cell_type": "code",
   "execution_count": null,
   "metadata": {},
   "outputs": [],
   "source": []
  }
 ],
 "metadata": {
  "kernelspec": {
   "display_name": "Python 3",
   "language": "python",
   "name": "python3"
  },
  "language_info": {
   "codemirror_mode": {
    "name": "ipython",
    "version": 3
   },
   "file_extension": ".py",
   "mimetype": "text/x-python",
   "name": "python",
   "nbconvert_exporter": "python",
   "pygments_lexer": "ipython3",
   "version": "3.7.4"
  }
 },
 "nbformat": 4,
 "nbformat_minor": 2
}
